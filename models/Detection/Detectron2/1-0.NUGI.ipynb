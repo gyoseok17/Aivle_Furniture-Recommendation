{
 "cells": [
  {
   "cell_type": "code",
   "execution_count": 1,
   "metadata": {},
   "outputs": [
    {
     "name": "stdout",
     "output_type": "stream",
     "text": [
      "Requirement already satisfied: Pillow in c:\\users\\user\\anaconda3\\envs\\ml_pipeline\\lib\\site-packages (9.5.0)\n",
      "Collecting Pillow\n",
      "  Using cached Pillow-10.1.0-cp310-cp310-win_amd64.whl.metadata (9.6 kB)\n",
      "Using cached Pillow-10.1.0-cp310-cp310-win_amd64.whl (2.6 MB)\n",
      "Installing collected packages: Pillow\n",
      "  Attempting uninstall: Pillow\n",
      "    Found existing installation: Pillow 9.5.0\n",
      "    Uninstalling Pillow-9.5.0:\n",
      "      Successfully uninstalled Pillow-9.5.0\n",
      "Successfully installed Pillow-10.1.0\n",
      "Note: you may need to restart the kernel to use updated packages.\n"
     ]
    },
    {
     "name": "stderr",
     "output_type": "stream",
     "text": [
      "ERROR: pip's dependency resolver does not currently take into account all the packages that are installed. This behaviour is the source of the following dependency conflicts.\n",
      "amazoncaptcha 0.5.11 requires pillow<9.6.0,>=9.0.1, but you have pillow 10.1.0 which is incompatible.\n"
     ]
    }
   ],
   "source": [
    "pip install -U Pillow"
   ]
  },
  {
   "cell_type": "code",
   "execution_count": 2,
   "metadata": {},
   "outputs": [],
   "source": [
    "#배경이 흰색인 사진을 누끼를 따준다.\n",
    "from PIL import Image\n",
    "\n",
    "# 누끼컷으로 변경할 이미지\n",
    "img = Image.open('test0.jpg') \n",
    "img = img.convert(\"RGBA\")\n",
    "datas = img.getdata()\n",
    "newData = []\n",
    "for item in datas:\n",
    "    if item[0] == 255 and item[1] == 255 and item[2] == 255:\n",
    "        newData.append((255, 255, 255, 0))\n",
    "    else:\n",
    "        newData.append(item)\n",
    "img.putdata(newData)\n",
    "\n",
    "# png 확장자로 저장\n",
    "img.save(\"TransparentImage.png\", \"PNG\") "
   ]
  }
 ],
 "metadata": {
  "kernelspec": {
   "display_name": "ml_pipeline",
   "language": "python",
   "name": "python3"
  },
  "language_info": {
   "codemirror_mode": {
    "name": "ipython",
    "version": 3
   },
   "file_extension": ".py",
   "mimetype": "text/x-python",
   "name": "python",
   "nbconvert_exporter": "python",
   "pygments_lexer": "ipython3",
   "version": "3.10.13"
  }
 },
 "nbformat": 4,
 "nbformat_minor": 2
}
